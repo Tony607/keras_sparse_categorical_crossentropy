{
 "cells": [
  {
   "cell_type": "markdown",
   "metadata": {},
   "source": [
    "## Example one - MNIST classification\n",
    "Tutorial [How to use Keras sparse_categorical_crossentropy](https://www.dlology.com/blog/how-to-use-keras-sparse_categorical_crossentropy/)"
   ]
  },
  {
   "cell_type": "code",
   "execution_count": 1,
   "metadata": {},
   "outputs": [
    {
     "name": "stderr",
     "output_type": "stream",
     "text": [
      "c:\\users\\hasee\\appdata\\local\\programs\\python\\python35\\lib\\site-packages\\h5py\\__init__.py:36: FutureWarning: Conversion of the second argument of issubdtype from `float` to `np.floating` is deprecated. In future, it will be treated as `np.float64 == np.dtype(float).type`.\n",
      "  from ._conv import register_converters as _register_converters\n",
      "Using TensorFlow backend.\n"
     ]
    }
   ],
   "source": [
    "from __future__ import print_function\n",
    "import keras\n",
    "from keras.datasets import mnist\n",
    "from keras.models import Sequential\n",
    "from keras.layers import Dense, Dropout, Flatten\n",
    "from keras.layers import Conv2D, MaxPooling2D\n",
    "from keras import backend as K\n",
    "\n",
    "import matplotlib.pyplot as plt\n",
    "%matplotlib inline\n",
    "\n",
    "batch_size = 128\n",
    "num_classes = 10\n",
    "epochs = 12\n",
    "\n",
    "# input image dimensions\n",
    "img_rows, img_cols = 28, 28\n"
   ]
  },
  {
   "cell_type": "code",
   "execution_count": 8,
   "metadata": {},
   "outputs": [
    {
     "name": "stdout",
     "output_type": "stream",
     "text": [
      "x_train shape: (60000, 28, 28, 1)\n",
      "60000 train samples\n",
      "10000 test samples\n"
     ]
    }
   ],
   "source": [
    "# the data, split between train and test sets\n",
    "(x_train, y_train), (x_test, y_test) = mnist.load_data()\n",
    "\n",
    "if K.image_data_format() == 'channels_first':\n",
    "    x_train = x_train.reshape(x_train.shape[0], 1, img_rows, img_cols)\n",
    "    x_test = x_test.reshape(x_test.shape[0], 1, img_rows, img_cols)\n",
    "    input_shape = (1, img_rows, img_cols)\n",
    "else:\n",
    "    x_train = x_train.reshape(x_train.shape[0], img_rows, img_cols, 1)\n",
    "    x_test = x_test.reshape(x_test.shape[0], img_rows, img_cols, 1)\n",
    "    input_shape = (img_rows, img_cols, 1)\n",
    "\n",
    "x_train = x_train.astype('float32')\n",
    "x_test = x_test.astype('float32')\n",
    "x_train /= 255\n",
    "x_test /= 255\n",
    "print('x_train shape:', x_train.shape)\n",
    "print(x_train.shape[0], 'train samples')\n",
    "print(x_test.shape[0], 'test samples')\n",
    "\n",
    "# convert class vectors to binary class matrices\n",
    "# y_train = keras.utils.to_categorical(y_train, num_classes)\n",
    "# y_test = keras.utils.to_categorical(y_test, num_classes)\n"
   ]
  },
  {
   "cell_type": "code",
   "execution_count": 4,
   "metadata": {},
   "outputs": [],
   "source": [
    "model = Sequential()\n",
    "model.add(Conv2D(32, kernel_size=(3, 3),\n",
    "                 activation='relu',\n",
    "                 input_shape=input_shape))\n",
    "model.add(Conv2D(64, (3, 3), activation='relu'))\n",
    "model.add(MaxPooling2D(pool_size=(2, 2)))\n",
    "model.add(Dropout(0.25))\n",
    "model.add(Flatten())\n",
    "model.add(Dense(128, activation='relu'))\n",
    "model.add(Dropout(0.5))\n",
    "model.add(Dense(num_classes, activation='softmax'))\n",
    "\n",
    "model.compile(\n",
    "            optimizer=keras.optimizers.Adadelta(),\n",
    "            loss='sparse_categorical_crossentropy',\n",
    "            metrics=['sparse_categorical_accuracy'])\n",
    "\n",
    "# model.compile(\n",
    "#           optimizer=keras.optimizers.Adadelta(),\n",
    "#           loss=keras.losses.categorical_crossentropy,\n",
    "#           metrics=['accuracy'])"
   ]
  },
  {
   "cell_type": "code",
   "execution_count": 5,
   "metadata": {},
   "outputs": [
    {
     "name": "stdout",
     "output_type": "stream",
     "text": [
      "_________________________________________________________________\n",
      "Layer (type)                 Output Shape              Param #   \n",
      "=================================================================\n",
      "conv2d_1 (Conv2D)            (None, 26, 26, 32)        320       \n",
      "_________________________________________________________________\n",
      "conv2d_2 (Conv2D)            (None, 24, 24, 64)        18496     \n",
      "_________________________________________________________________\n",
      "max_pooling2d_1 (MaxPooling2 (None, 12, 12, 64)        0         \n",
      "_________________________________________________________________\n",
      "dropout_1 (Dropout)          (None, 12, 12, 64)        0         \n",
      "_________________________________________________________________\n",
      "flatten_1 (Flatten)          (None, 9216)              0         \n",
      "_________________________________________________________________\n",
      "dense_1 (Dense)              (None, 128)               1179776   \n",
      "_________________________________________________________________\n",
      "dropout_2 (Dropout)          (None, 128)               0         \n",
      "_________________________________________________________________\n",
      "dense_2 (Dense)              (None, 10)                1290      \n",
      "=================================================================\n",
      "Total params: 1,199,882\n",
      "Trainable params: 1,199,882\n",
      "Non-trainable params: 0\n",
      "_________________________________________________________________\n"
     ]
    }
   ],
   "source": [
    "model.summary()"
   ]
  },
  {
   "cell_type": "code",
   "execution_count": 10,
   "metadata": {},
   "outputs": [
    {
     "name": "stdout",
     "output_type": "stream",
     "text": [
      "Train on 60000 samples, validate on 10000 samples\n",
      "Epoch 1/12\n",
      "60000/60000 [==============================] - 10s 162us/step - loss: 0.2752 - sparse_categorical_accuracy: 0.9152 - val_loss: 0.0634 - val_sparse_categorical_accuracy: 0.9801\n",
      "Epoch 2/12\n",
      "60000/60000 [==============================] - 5s 91us/step - loss: 0.0994 - sparse_categorical_accuracy: 0.9706 - val_loss: 0.0501 - val_sparse_categorical_accuracy: 0.9829\n",
      "Epoch 3/12\n",
      "60000/60000 [==============================] - 5s 90us/step - loss: 0.0738 - sparse_categorical_accuracy: 0.9779 - val_loss: 0.0443 - val_sparse_categorical_accuracy: 0.9848\n",
      "Epoch 4/12\n",
      "60000/60000 [==============================] - 5s 91us/step - loss: 0.0606 - sparse_categorical_accuracy: 0.9819 - val_loss: 0.0349 - val_sparse_categorical_accuracy: 0.9885\n",
      "Epoch 5/12\n",
      "60000/60000 [==============================] - 5s 91us/step - loss: 0.0509 - sparse_categorical_accuracy: 0.9844 - val_loss: 0.0328 - val_sparse_categorical_accuracy: 0.9892\n",
      "Epoch 6/12\n",
      "60000/60000 [==============================] - 6s 92us/step - loss: 0.0451 - sparse_categorical_accuracy: 0.9864 - val_loss: 0.0297 - val_sparse_categorical_accuracy: 0.9898\n",
      "Epoch 7/12\n",
      "60000/60000 [==============================] - 5s 89us/step - loss: 0.0403 - sparse_categorical_accuracy: 0.9875 - val_loss: 0.0312 - val_sparse_categorical_accuracy: 0.9902\n",
      "Epoch 8/12\n",
      "60000/60000 [==============================] - 5s 91us/step - loss: 0.0379 - sparse_categorical_accuracy: 0.9885 - val_loss: 0.0294 - val_sparse_categorical_accuracy: 0.9898\n",
      "Epoch 9/12\n",
      "60000/60000 [==============================] - 5s 92us/step - loss: 0.0347 - sparse_categorical_accuracy: 0.9897 - val_loss: 0.0266 - val_sparse_categorical_accuracy: 0.9918\n",
      "Epoch 10/12\n",
      "60000/60000 [==============================] - 5s 91us/step - loss: 0.0314 - sparse_categorical_accuracy: 0.9905 - val_loss: 0.0286 - val_sparse_categorical_accuracy: 0.9917\n",
      "Epoch 11/12\n",
      "60000/60000 [==============================] - 5s 91us/step - loss: 0.0307 - sparse_categorical_accuracy: 0.9906 - val_loss: 0.0271 - val_sparse_categorical_accuracy: 0.9915\n",
      "Epoch 12/12\n",
      "60000/60000 [==============================] - 5s 91us/step - loss: 0.0300 - sparse_categorical_accuracy: 0.9903 - val_loss: 0.0264 - val_sparse_categorical_accuracy: 0.9910\n",
      "Test loss: 0.02637367670582389\n",
      "Test accuracy: 0.991\n"
     ]
    }
   ],
   "source": [
    "model.fit(x_train, y_train,\n",
    "          batch_size=batch_size,\n",
    "          epochs=epochs,\n",
    "          verbose=1,\n",
    "          validation_data=(x_test, y_test))\n",
    "score = model.evaluate(x_test, y_test, verbose=0)\n",
    "print('Test loss:', score[0])\n",
    "print('Test accuracy:', score[1])"
   ]
  },
  {
   "cell_type": "code",
   "execution_count": 22,
   "metadata": {},
   "outputs": [],
   "source": [
    "test_image = x_test[0]"
   ]
  },
  {
   "cell_type": "code",
   "execution_count": 23,
   "metadata": {},
   "outputs": [
    {
     "data": {
      "text/plain": [
       "<matplotlib.image.AxesImage at 0x25d10d6b390>"
      ]
     },
     "execution_count": 23,
     "metadata": {},
     "output_type": "execute_result"
    },
    {
     "data": {
      "image/png": "[encoded data removed]",
      "text/plain": [
       "<matplotlib.figure.Figure at 0x25d10d14390>"
      ]
     },
     "metadata": {},
     "output_type": "display_data"
    }
   ],
   "source": [
    "plt.imshow(test_image.reshape((28,28)))"
   ]
  },
  {
   "cell_type": "code",
   "execution_count": 31,
   "metadata": {},
   "outputs": [
    {
     "data": {
      "text/plain": [
       "array([[2.8760809e-12, 1.6350768e-11, 5.7421073e-10, 3.3546241e-09,\n",
       "        9.4157071e-13, 3.3218664e-12, 1.3249269e-14, 1.0000000e+00,\n",
       "        4.0802882e-12, 1.0193049e-08]], dtype=float32)"
      ]
     },
     "execution_count": 31,
     "metadata": {},
     "output_type": "execute_result"
    }
   ],
   "source": [
    "predicted_logits = model.predict(test_image.reshape((1,28,28,1)))\n",
    "predicted_logits"
   ]
  },
  {
   "cell_type": "code",
   "execution_count": 32,
   "metadata": {},
   "outputs": [
    {
     "data": {
      "text/plain": [
       "7"
      ]
     },
     "execution_count": 32,
     "metadata": {},
     "output_type": "execute_result"
    }
   ],
   "source": [
    "predicted_logits.argmax()"
   ]
  },
  {
   "cell_type": "code",
   "execution_count": null,
   "metadata": {},
   "outputs": [],
   "source": []
  }
 ],
 "metadata": {
  "kernelspec": {
   "display_name": "Python 3",
   "language": "python",
   "name": "python3"
  },
  "language_info": {
   "codemirror_mode": {
    "name": "ipython",
    "version": 3
   },
   "file_extension": ".py",
   "mimetype": "text/x-python",
   "name": "python",
   "nbconvert_exporter": "python",
   "pygments_lexer": "ipython3",
   "version": "3.5.2"
  }
 },
 "nbformat": 4,
 "nbformat_minor": 2
}
