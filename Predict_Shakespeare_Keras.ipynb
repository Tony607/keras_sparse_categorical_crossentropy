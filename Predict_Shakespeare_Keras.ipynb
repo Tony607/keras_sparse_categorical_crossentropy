{
 "cells": [
  {
   "cell_type": "markdown",
   "metadata": {},
   "source": [
    "## Example two - character level sequence to sequence prediction\n",
    "Tutorial [How to use Keras sparse_categorical_crossentropy](https://www.dlology.com/blog/how-to-use-keras-sparse_categorical_crossentropy/)"
   ]
  },
  {
   "cell_type": "code",
   "execution_count": 1,
   "metadata": {
    "colab": {},
    "colab_type": "code",
    "id": "rxkNIKFM1vWx"
   },
   "outputs": [],
   "source": [
    "#@title Licensed under the Apache License, Version 2.0 (the \"License\"); { display-mode: \"form\" }\n",
    "# you may not use this file except in compliance with the License.\n",
    "# You may obtain a copy of the License at\n",
    "#\n",
    "# https://www.apache.org/licenses/LICENSE-2.0\n",
    "#\n",
    "# Unless required by applicable law or agreed to in writing, software\n",
    "# distributed under the License is distributed on an \"AS IS\" BASIS,\n",
    "# WITHOUT WARRANTIES OR CONDITIONS OF ANY KIND, either express or implied.\n",
    "# See the License for the specific language governing permissions and\n",
    "# limitations under the License."
   ]
  },
  {
   "cell_type": "markdown",
   "metadata": {
    "colab_type": "text",
    "id": "edfbxDDh2AEs"
   },
   "source": [
    "# Predict Shakespeare with Keras"
   ]
  },
  {
   "cell_type": "markdown",
   "metadata": {
    "colab_type": "text",
    "id": "xzpUtDMqmA-x"
   },
   "source": [
    "This example uses [tf.keras](https://www.tensorflow.org/guide/keras) to build a *language model* and train it on a GPU. This language model predicts the next character of text given the text so far. The trained model can generate new snippets of text that read in a similar style to the text training data.\n",
    "\n",
    "We'll train the model on the combined works of William Shakespeare, then use it to compose a play in the style of *The Great Bard*:\n",
    "\n",
    "<blockquote>\n",
    "Loves that led me no dumbs lack her Berjoy's face with her to-day.  \n",
    "The spirits roar'd; which shames which within his powers  \n",
    "\tWhich tied up remedies lending with occasion,  \n",
    "A loud and Lancaster, stabb'd in me  \n",
    "\tUpon my sword for ever: 'Agripo'er, his days let me free.  \n",
    "\tStop it of that word, be so: at Lear,  \n",
    "\tWhen I did profess the hour-stranger for my life,  \n",
    "\tWhen I did sink to be cried how for aught;  \n",
    "\tSome beds which seeks chaste senses prove burning;  \n",
    "But he perforces seen in her eyes so fast;  \n",
    "And _  \n",
    "</blockquote>\n"
   ]
  },
  {
   "cell_type": "markdown",
   "metadata": {
    "colab_type": "text",
    "id": "KRQ6Fjra3Ruq"
   },
   "source": [
    "## Download data\n",
    "\n",
    "Download *The Complete Works of William Shakespeare* as a single text file from [Project Gutenberg](https://www.gutenberg.org/). We'll use snippets from this file as the *training data* for the model. The *target* snippet is offset by one character."
   ]
  },
  {
   "cell_type": "code",
   "execution_count": 2,
   "metadata": {
    "colab": {
     "base_uri": "https://localhost:8080/",
     "height": 67
    },
    "colab_type": "code",
    "id": "j8sIXh1DEDDd",
    "outputId": "e4850c73-b024-4845-a425-2c911515b8a5"
   },
   "outputs": [],
   "source": [
    "# !wget --show-progress --continue -O data/shakespeare.txt http://www.gutenberg.org/files/100/100-0.txt"
   ]
  },
  {
   "cell_type": "markdown",
   "metadata": {
    "colab_type": "text",
    "id": "AbL6cqCl7hnt"
   },
   "source": [
    "### Build the data generator"
   ]
  },
  {
   "cell_type": "code",
   "execution_count": 3,
   "metadata": {
    "colab": {
     "base_uri": "https://localhost:8080/",
     "height": 235
    },
    "colab_type": "code",
    "id": "E3V4V-Jxmuv3",
    "outputId": "bba5a040-6d8d-41fa-e20b-3118531d75cd"
   },
   "outputs": [
    {
     "name": "stderr",
     "output_type": "stream",
     "text": [
      "c:\\users\\hasee\\appdata\\local\\programs\\python\\python35\\lib\\site-packages\\h5py\\__init__.py:36: FutureWarning: Conversion of the second argument of issubdtype from `float` to `np.floating` is deprecated. In future, it will be treated as `np.float64 == np.dtype(float).type`.\n",
      "  from ._conv import register_converters as _register_converters\n"
     ]
    },
    {
     "name": "stdout",
     "output_type": "stream",
     "text": [
      "INFO:tensorflow:Input text [5834393] ﻿\n",
      "Project Gutenberg’s The Complete Works of Willi\n",
      "x, shape: (2, 10) , x: [[109 109 117 110 105  99  97 116  39 115]\n",
      " [114 101  32  97 110 103 114 121  13  10]]\n",
      "y, shape: (2, 10, 1) , y: [[[109]\n",
      "  [117]\n",
      "  [110]\n",
      "  [105]\n",
      "  [ 99]\n",
      "  [ 97]\n",
      "  [116]\n",
      "  [ 39]\n",
      "  [115]\n",
      "  [116]]\n",
      "\n",
      " [[101]\n",
      "  [ 32]\n",
      "  [ 97]\n",
      "  [110]\n",
      "  [103]\n",
      "  [114]\n",
      "  [121]\n",
      "  [ 13]\n",
      "  [ 10]\n",
      "  [ 32]]]\n"
     ]
    }
   ],
   "source": [
    "import numpy as np\n",
    "import six\n",
    "import tensorflow as tf\n",
    "import time\n",
    "import os\n",
    "\n",
    "SHAKESPEARE_TXT = 'data/shakespeare.txt'\n",
    "\n",
    "tf.logging.set_verbosity(tf.logging.INFO)\n",
    "\n",
    "def transform(txt, pad_to=None):\n",
    "    \"\"\"\n",
    "    Transform chars in txt to ascii values np.array, drop non-ascii chars.\n",
    "    \"\"\"\n",
    "    # drop any non-ascii characters\n",
    "    output = np.asarray([ord(c) for c in txt if ord(c) < 255], dtype=np.int32)\n",
    "    if pad_to is not None:\n",
    "        output = output[:pad_to]\n",
    "        output = np.concatenate([\n",
    "            np.zeros([pad_to - len(txt)], dtype=np.int32),\n",
    "            output,\n",
    "        ])\n",
    "    return output\n",
    "\n",
    "def training_generator(seq_len=100, batch_size=1024):\n",
    "    \"\"\"A generator yields (source, target) arrays for training.\"\"\"\n",
    "    with tf.gfile.GFile(SHAKESPEARE_TXT, 'r') as f:\n",
    "        txt = f.read()\n",
    "\n",
    "    tf.logging.info('Input text [%d] %s', len(txt), txt[:50])\n",
    "    source = transform(txt)\n",
    "    while True:\n",
    "        # One batch of offsets for sampling sequences randomly.\n",
    "        offsets = np.random.randint(low=0, high=len(source) - seq_len, size=batch_size)\n",
    "\n",
    "        # Our model uses sparse crossentropy loss, but Keras requires labels\n",
    "        # to have the same rank as the input logits.  We add an empty final\n",
    "        # dimension to account for this.\n",
    "        yield (\n",
    "            np.stack([source[idx:idx + seq_len] for idx in offsets]),\n",
    "            np.expand_dims(\n",
    "                np.stack([source[idx + 1:idx + seq_len + 1] for idx in offsets]),\n",
    "                -1),\n",
    "        )\n",
    "\n",
    "x, y = six.next(training_generator(seq_len=10, batch_size=2))\n",
    "print('x, shape:', x.shape, ', x:', x)\n",
    "print('y, shape:', y.shape, ', y:', y)"
   ]
  },
  {
   "cell_type": "code",
   "execution_count": 4,
   "metadata": {},
   "outputs": [
    {
     "data": {
      "text/plain": [
       "array([49, 50, 51, 32, 98, 99, 32, 65, 66, 67])"
      ]
     },
     "execution_count": 4,
     "metadata": {},
     "output_type": "execute_result"
    }
   ],
   "source": [
    "transform('123 bc ABC')"
   ]
  },
  {
   "cell_type": "markdown",
   "metadata": {
    "colab_type": "text",
    "id": "Bbb05dNynDrQ"
   },
   "source": [
    "## Build the model\n",
    "\n",
    "The model is defined as a two-layer, forward-LSTM—with two changes from the `tf.keras` standard LSTM definition:\n",
    "\n",
    "1. Define the input `shape` of our model which satisfies the [XLA compiler](https://www.tensorflow.org/performance/xla/)'s static shape requirement.\n",
    "2. Use `tf.train.Optimizer` instead of a standard Keras optimizer (Keras optimizer support is still experimental).\n",
    "\n",
    "By using `sparse_categorical_crossentropy` we can have keep integer as chars' labels without transforming to one-hot labels.\n",
    "So the output of the model will be in softmaxed one-hot like shape while the labels are integers."
   ]
  },
  {
   "cell_type": "code",
   "execution_count": 5,
   "metadata": {
    "colab": {},
    "colab_type": "code",
    "id": "yLEM-fLJlEEt"
   },
   "outputs": [],
   "source": [
    "EMBEDDING_DIM = 512\n",
    "MAX_TOKENS = 256\n",
    "def lstm_model(seq_len=100, batch_size=None, stateful=True, max_tokens = 256):\n",
    "    \"\"\"Language model: predict the next char given the current char.\"\"\"\n",
    "    source = tf.keras.Input(\n",
    "        name='seed', shape=(seq_len,), batch_size=batch_size, dtype=tf.int32)\n",
    "\n",
    "    embedding = tf.keras.layers.Embedding(input_dim=max_tokens, output_dim=EMBEDDING_DIM)(source)\n",
    "    lstm_1 = tf.keras.layers.LSTM(EMBEDDING_DIM, stateful=stateful, return_sequences=True)(embedding)\n",
    "    lstm_2 = tf.keras.layers.LSTM(EMBEDDING_DIM, stateful=stateful, return_sequences=True)(lstm_1)\n",
    "    predicted_char = tf.keras.layers.TimeDistributed(tf.keras.layers.Dense(max_tokens, activation='softmax'))(lstm_2)\n",
    "    model = tf.keras.Model(inputs=[source], outputs=[predicted_char])\n",
    "    model.compile(\n",
    "        optimizer=tf.train.RMSPropOptimizer(learning_rate=0.01),\n",
    "        loss='sparse_categorical_crossentropy',\n",
    "        metrics=['sparse_categorical_accuracy'])\n",
    "    return model"
   ]
  },
  {
   "cell_type": "markdown",
   "metadata": {
    "colab_type": "text",
    "id": "VzBYDJI0_Tfm"
   },
   "source": [
    "## Train the model\n",
    "\n",
    "The `tf.contrib.tpu.keras_to_tpu_model` function converts a `tf.keras` model to an equivalent TPU version. We then use the standard Keras methods to train: `fit`, `predict`, and `evaluate`."
   ]
  },
  {
   "cell_type": "code",
   "execution_count": 6,
   "metadata": {
    "colab": {
     "base_uri": "https://localhost:8080/",
     "height": 910
    },
    "colab_type": "code",
    "id": "ExQ922tfzSGA",
    "outputId": "fa035593-38eb-4e21-d050-c1ee95528af0",
    "scrolled": true
   },
   "outputs": [
    {
     "name": "stdout",
     "output_type": "stream",
     "text": [
      "_________________________________________________________________\n",
      "Layer (type)                 Output Shape              Param #   \n",
      "=================================================================\n",
      "seed (InputLayer)            (128, 100)                0         \n",
      "_________________________________________________________________\n",
      "embedding (Embedding)        (128, 100, 512)           131072    \n",
      "_________________________________________________________________\n",
      "lstm (LSTM)                  (128, 100, 512)           2099200   \n",
      "_________________________________________________________________\n",
      "lstm_1 (LSTM)                (128, 100, 512)           2099200   \n",
      "_________________________________________________________________\n",
      "time_distributed (TimeDistri (128, 100, 256)           131328    \n",
      "=================================================================\n",
      "Total params: 4,460,800\n",
      "Trainable params: 4,460,800\n",
      "Non-trainable params: 0\n",
      "_________________________________________________________________\n",
      "Epoch 1/2\n",
      "INFO:tensorflow:Input text [5834393] ﻿\n",
      "Project Gutenberg’s The Complete Works of Willi\n",
      "100/100 [==============================] - 65s 652ms/step - loss: 3.9236 - sparse_categorical_accuracy: 0.1840\n",
      "Epoch 2/2\n",
      "100/100 [==============================] - 57s 571ms/step - loss: 3.2356 - sparse_categorical_accuracy: 0.2051\n"
     ]
    }
   ],
   "source": [
    "tf.keras.backend.clear_session()\n",
    "\n",
    "training_model = lstm_model(seq_len=100, batch_size=128, stateful=False, max_tokens = MAX_TOKENS)\n",
    "\n",
    "# tpu_model = tf.contrib.tpu.keras_to_tpu_model(\n",
    "#     training_model,\n",
    "#     strategy=tf.contrib.tpu.TPUDistributionStrategy(\n",
    "#         tf.contrib.cluster_resolver.TPUClusterResolver(TPU_WORKER)))\n",
    "\n",
    "training_model.summary()\n",
    "\n",
    "training_model.fit_generator(\n",
    "    training_generator(seq_len=100, batch_size=128),\n",
    "    steps_per_epoch=100,\n",
    "    epochs=2, # 10\n",
    ")\n",
    "training_model.save_weights('models/bard-GPU-epoch2.h5', overwrite=True)"
   ]
  },
  {
   "cell_type": "markdown",
   "metadata": {
    "colab_type": "text",
    "id": "TCBtcpZkykSf"
   },
   "source": [
    "## Make predictions with the model\n",
    "\n",
    "Use the trained model to make predictions and generate your own Shakespeare-esque play.\n",
    "Start the model off with a *seed* sentence, then generate 250 characters from it. We'll make five predictions from the initial seed."
   ]
  },
  {
   "cell_type": "code",
   "execution_count": 6,
   "metadata": {},
   "outputs": [
    {
     "name": "stdout",
     "output_type": "stream",
     "text": [
      "_________________________________________________________________\n",
      "Layer (type)                 Output Shape              Param #   \n",
      "=================================================================\n",
      "seed (InputLayer)            (5, 1)                    0         \n",
      "_________________________________________________________________\n",
      "embedding (Embedding)        (5, 1, 512)               131072    \n",
      "_________________________________________________________________\n",
      "lstm (LSTM)                  (5, 1, 512)               2099200   \n",
      "_________________________________________________________________\n",
      "lstm_1 (LSTM)                (5, 1, 512)               2099200   \n",
      "_________________________________________________________________\n",
      "time_distributed (TimeDistri (5, 1, 256)               131328    \n",
      "=================================================================\n",
      "Total params: 4,460,800\n",
      "Trainable params: 4,460,800\n",
      "Non-trainable params: 0\n",
      "_________________________________________________________________\n"
     ]
    }
   ],
   "source": [
    "BATCH_SIZE = 5\n",
    "PREDICT_LEN = 250\n",
    "\n",
    "# Keras requires the batch size be specified ahead of time for stateful models.\n",
    "# We use a sequence length of 1, as we will be feeding in one character at a \n",
    "# time and predicting the next character.\n",
    "prediction_model = lstm_model(seq_len=1, batch_size=BATCH_SIZE, stateful=True, max_tokens = MAX_TOKENS)\n",
    "prediction_model.load_weights('models/bard-GPU-epoch2.h5') # bard-TPU-epoch10.h5 or bard-GPU-epoch2.h5\n",
    "\n",
    "# We seed the model with our initial string, copied BATCH_SIZE times\n",
    "\n",
    "seed_txt = 'Looks it not like the king?  Verily, we must go! '\n",
    "\n",
    "# Text chars to ascii values np.array.\n",
    "seed = transform(seed_txt)\n",
    "\n",
    "# Repeat seed for batch size times.\n",
    "seed = np.repeat(np.expand_dims(seed, 0), BATCH_SIZE, axis=0)\n",
    "\n",
    "prediction_model.summary()"
   ]
  },
  {
   "cell_type": "code",
   "execution_count": 7,
   "metadata": {
    "colab": {
     "base_uri": "https://localhost:8080/",
     "height": 1241
    },
    "colab_type": "code",
    "id": "tU7M-EGGxR3E",
    "outputId": "18dce114-3500-4258-e628-e6326400fe1f"
   },
   "outputs": [],
   "source": [
    "# First, run the seed forward to prime the state of the model.\n",
    "prediction_model.reset_states()\n",
    "\n",
    "# Kick start with the seed text.\n",
    "for i in range(len(seed_txt) - 1):\n",
    "    prediction_model.predict(seed[:, i:i + 1])"
   ]
  },
  {
   "cell_type": "code",
   "execution_count": 8,
   "metadata": {},
   "outputs": [
    {
     "data": {
      "text/plain": [
       "(5, 1)"
      ]
     },
     "execution_count": 8,
     "metadata": {},
     "output_type": "execute_result"
    }
   ],
   "source": [
    "predictions = [seed[:, -1:]]\n",
    "predictions[-1].shape"
   ]
  },
  {
   "cell_type": "code",
   "execution_count": 9,
   "metadata": {},
   "outputs": [],
   "source": [
    "# Last chars in the batch\n",
    "last_char = predictions[-1]\n",
    "# Predict with only the last chars as input\n",
    "next_probits = prediction_model.predict(last_char)[:, 0, :]"
   ]
  },
  {
   "cell_type": "code",
   "execution_count": 10,
   "metadata": {},
   "outputs": [
    {
     "data": {
      "image/png": "[encoded data removed]",
      "text/plain": [
       "<matplotlib.figure.Figure at 0x1401cd91860>"
      ]
     },
     "metadata": {},
     "output_type": "display_data"
    }
   ],
   "source": [
    "import matplotlib.pyplot as plt\n",
    "plt.plot(next_probits[1])\n",
    "plt.xlabel('ascii')\n",
    "plt.ylabel('probs')\n",
    "plt.show()"
   ]
  },
  {
   "cell_type": "code",
   "execution_count": 11,
   "metadata": {},
   "outputs": [],
   "source": [
    "# Now we can accumulate predictions!\n",
    "\n",
    "# The last char's ascii value for each sequence in seed batch (5 sequences).\n",
    "predictions = [seed[:, -1]]\n",
    "\n",
    "# Predict PREDICT_LEN(250) in number of chars.\n",
    "for i in range(PREDICT_LEN):\n",
    "    # Last chars in the batch\n",
    "    last_char = predictions[-1]\n",
    "    \n",
    "    # Predict with only the last chars as inputs.\n",
    "    next_probits = prediction_model.predict(last_char)[:, 0, :]\n",
    "\n",
    "    # Sample from output distribution for each sample in the batch.\n",
    "    next_idx = [\n",
    "        np.random.choice(len(next_probits[0]), p=next_probits[i])\n",
    "        for i in range(BATCH_SIZE)\n",
    "    ]\n",
    "    # Collect the sampled output char ascii values.\n",
    "    predictions.append(np.asarray(next_idx, dtype=np.int32))\n"
   ]
  },
  {
   "cell_type": "markdown",
   "metadata": {},
   "source": [
    "## Create new scripts\n",
    "For better performance, either train for more epochs or download the pre-trained weigths [bard-TPU-epoch10.h5](https://github.com/Tony607/keras_sparse_categorical_crossentropy/releases/download/V0.1/bard-TPU-epoch10.h5) and copy over to `./models` directory."
   ]
  },
  {
   "cell_type": "code",
   "execution_count": 12,
   "metadata": {},
   "outputs": [
    {
     "name": "stdout",
     "output_type": "stream",
     "text": [
      "PREDICTION 0\n",
      "\n",
      "\n",
      "       Exit\r\n",
      "  PETER. Most fly with her?\r\n",
      "\r\n",
      "                    Re-enter the Colcertal\r\n",
      "  SALERIO, Servants, countenance and Bon to Goneril.\r\n",
      "  SHEPHERD. So should I have forsworn: and follow him dowrier, and he\r\n",
      "    Life against whom thy last consen\n",
      "\n",
      "PREDICTION 1\n",
      "\n",
      "\n",
      "      [Flourish] Enter, one\r\n",
      "  FORD. No, neither?\r\n",
      "  CONSPERS. Madam, and in me, call I warrant you!\r\n",
      "  PROSPERO. Fesperas, you note; et a foul King;\r\n",
      "    And from the sun nor the excellent good.\r\n",
      "    Your fair dotages in arms;\r\n",
      "    For my verses, wh\n",
      "\n",
      "PREDICTION 2\n",
      "\n",
      "\n",
      "        Exeunt COMERIUS\r\n",
      "    He is gordeity?\r\n",
      "  MICHAEL. I dare not torture, measure.\r\n",
      "  VIOLA. Rerlain, how was not the fiend?\r\n",
      "  SOMERSET. Give me the humours, coming for this:\r\n",
      "Ha! Would I send love memorizo? when one one farewele to see below,\r\n",
      "H\n",
      "\n",
      "PREDICTION 3\n",
      "\n",
      "\n",
      "     552\r\n",
      "\r\n",
      "As one more but that from him-followers,\r\n",
      "Ohlelly consents and vows of all\r\n",
      "enemies love as you know me.\r\n",
      "\r\n",
      "PRINCE.\r\n",
      "Not what you are sick; unto the people, and good heart\r\n",
      "in men, do well example. Were nature to what, son,\r\n",
      "Did not now b\n",
      "\n",
      "PREDICTION 4\n",
      "\n",
      "\n",
      "                  \r\n",
      "    Sens all, good monster, there's compared by your friend,\r\n",
      "            That is very wretches than Sicining my Lords of Goths,\r\n",
      "               And in a Christians\r\n",
      "            Tripping souls and trusting willingly.\r\n",
      "  DUCHESS. D\n",
      "\n"
     ]
    }
   ],
   "source": [
    "# For each batch, ascii values -> chars.\n",
    "for i in range(BATCH_SIZE):\n",
    "    print('PREDICTION %d\\n\\n' % i)\n",
    "    p = [predictions[j][i] for j in range(PREDICT_LEN)]\n",
    "    generated = ''.join([chr(c) for c in p])\n",
    "    print(generated)\n",
    "    print()\n",
    "    assert len(generated) == PREDICT_LEN, 'Generated text too short'"
   ]
  },
  {
   "cell_type": "markdown",
   "metadata": {
    "colab_type": "text",
    "id": "wYp6XVQU2POn"
   },
   "source": [
    "### To run the code with TPU on Colab\n",
    "\n",
    "<table class=\"tfo-notebook-buttons\" align=\"left\">\n",
    " <td>\n",
    "    <a target=\"_blank\" href=\"https://colab.research.google.com/github/tensorflow/tpu/blob/master/tools/colab/shakespeare_with_tpu_and_keras.ipynb\"><img src=\"https://www.tensorflow.org/images/colab_logo_32px.png\" />Run in Google Colab</a>\n",
    "  </td>\n",
    "  <td>\n",
    "    <a target=\"_blank\" href=\"https://github.com/tensorflow/tpu/blob/master/tools/colab/shakespeare_with_tpu_and_keras.ipynb\"><img src=\"https://www.tensorflow.org/images/GitHub-Mark-32px.png\" />View source on GitHub</a>\n",
    "  </td>\n",
    "</table>"
   ]
  },
  {
   "cell_type": "code",
   "execution_count": null,
   "metadata": {},
   "outputs": [],
   "source": []
  }
 ],
 "metadata": {
  "accelerator": "TPU",
  "colab": {
   "collapsed_sections": [],
   "name": "Copy of Predict Shakespeare with Cloud TPUs and Keras",
   "provenance": [],
   "toc_visible": true,
   "version": "0.3.2"
  },
  "kernelspec": {
   "display_name": "Python 3",
   "language": "python",
   "name": "python3"
  },
  "language_info": {
   "codemirror_mode": {
    "name": "ipython",
    "version": 3
   },
   "file_extension": ".py",
   "mimetype": "text/x-python",
   "name": "python",
   "nbconvert_exporter": "python",
   "pygments_lexer": "ipython3",
   "version": "3.5.2"
  }
 },
 "nbformat": 4,
 "nbformat_minor": 1
}
